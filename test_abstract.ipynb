{
 "cells": [
  {
   "cell_type": "code",
   "execution_count": 1,
   "id": "2e85c7fd",
   "metadata": {},
   "outputs": [
    {
     "name": "stderr",
     "output_type": "stream",
     "text": [
      "/home/rootlab338/work/envs_conda/nextqa/qwen/lib/python3.10/site-packages/tqdm/auto.py:21: TqdmWarning: IProgress not found. Please update jupyter and ipywidgets. See https://ipywidgets.readthedocs.io/en/stable/user_install.html\n",
      "  from .autonotebook import tqdm as notebook_tqdm\n"
     ]
    }
   ],
   "source": [
    "import json\n",
    "from pathlib import Path\n",
    "from shutil import copyfile\n",
    "from PIL import Image\n",
    "import torch\n",
    "from transformers import Qwen2_5_VLForConditionalGeneration, AutoProcessor\n",
    "#from qwen_vl_utils import process_vision_info"
   ]
  },
  {
   "cell_type": "code",
   "execution_count": null,
   "id": "cdc9937c",
   "metadata": {},
   "outputs": [],
   "source": [
    "assistant = \"\\n<|im_start|>assistant\"\n",
    "user = \"\\n<|im_start|>user \\n <|vision_start|><|image_pad|><|vision_end|>请根据图片帮我生成描述文本<|im_end|>\"\n",
    "system_0 = \"\"\"<|im_start|>system\n",
    "# 指令：\n",
    "你是一位全局观察力强、总结能力强的图像描述专家。你擅长抓住图像重点内容并总结概括成 1 至 2 句简洁、准确且高质量的自然语言描述。你的描述应全面且简洁的说明图像的主要内容与核心信息，帮助未见图片的用户在脑海中快速形成画面的大致印象。\n",
    "\n",
    "# 任务目标：\n",
    "1)核心目标：请以一位总结图像信息的专家口吻、客观、简洁且自然流畅地使用一到两句话描述图片内容。\n",
    "2)语言结构风格：输出语言应是清晰、平实、流畅，自然而富有条理的中文，不使用标题、不罗列清单。\n",
    "3)语言叙述风格：叙述风格应平实、清晰，精简，尽量避免使任何带有修饰作用的形容词和带有强烈主观情感的词汇。\n",
    "\n",
    "# 请严格遵守以下要求：\n",
    "1)仅基于图像中可见内容进行描述，不推断情节或虚构人物意图。\n",
    "2)描述客观准确，在客观精简的前提下，力求捕捉并准确且描述最最主要的视觉元素。避免使用修辞，带有修饰色彩的形容词和带有任何主观情感的词汇。\n",
    "3)输出为一段结构高质量，描述内容十分精简的文本，使用符合中文的表达习惯以及适合中国人理解的用词。\n",
    "\"\"\"\n",
    "prompt_0 =  system_0 + user + assistant \n",
    "\n",
    "\n",
    "\n"
   ]
  },
  {
   "cell_type": "code",
   "execution_count": 6,
   "id": "fc2fac8a",
   "metadata": {},
   "outputs": [
    {
     "name": "stderr",
     "output_type": "stream",
     "text": [
      "Loading checkpoint shards: 100%|██████████| 5/5 [00:07<00:00,  1.47s/it]\n"
     ]
    }
   ],
   "source": [
    "model_qwen = Qwen2_5_VLForConditionalGeneration.from_pretrained(\n",
    "    \"Qwen/Qwen2.5-VL-7B-Instruct\",\n",
    "    torch_dtype=torch.float16,\n",
    "    device_map=\"auto\",\n",
    ")\n",
    "processor_qwen = AutoProcessor.from_pretrained(\"Qwen/Qwen2.5-VL-7B-Instruct\")\n",
    "device = next(model_qwen.parameters()).device "
   ]
  },
  {
   "cell_type": "code",
   "execution_count": 12,
   "id": "567257bf",
   "metadata": {},
   "outputs": [
    {
     "name": "stdout",
     "output_type": "stream",
     "text": [
      " 这幅图描绘了一个装饰有黄色雏菊的白色花瓶，旁边是一本黄色封面的笔记本，背景墙上挂着一幅山景画。\n"
     ]
    }
   ],
   "source": [
    "image_path = \"/home/rootlab338/work/qwen2.5/data_hq/artificial/a_向日葵.webp\"\n",
    "image = Image.open(image_path).convert(\"RGB\")\n",
    "inputs= processor_qwen(text=[prompt_0],images=image,return_tensors=\"pt\",padding=True).to(device)\n",
    "generated_ids = model_qwen.generate(**inputs, max_new_tokens=512)\n",
    "trimmed_ids = [out[len(inp):] for inp, out in zip(inputs.input_ids, generated_ids)]\n",
    "output_text = processor_qwen.batch_decode(trimmed_ids, skip_special_tokens=True, clean_up_tokenization_spaces=False)[0]\n",
    "print(output_text)"
   ]
  },
  {
   "cell_type": "code",
   "execution_count": 13,
   "id": "ebc89f03",
   "metadata": {},
   "outputs": [
    {
     "name": "stderr",
     "output_type": "stream",
     "text": [
      "100%|██████████| 6/6 [00:15<00:00,  2.64s/it]\n",
      "100%|██████████| 6/6 [00:16<00:00,  2.83s/it]\n",
      "100%|██████████| 7/7 [00:27<00:00,  3.97s/it]\n"
     ]
    }
   ],
   "source": [
    "from tqdm import tqdm \n",
    "\n",
    "img_dir_0 = Path(\"/home/rootlab338/work/qwen2.5/data_hq/artificial\")\n",
    "img_dir_1 = Path(\"/home/rootlab338/work/qwen2.5/data_hq/nature\")\n",
    "img_dir_2 = Path(\"/home/rootlab338/work/qwen2.5/data_hq/concat\")\n",
    "img_dirs = [img_dir_0,img_dir_1,img_dir_2 ]\n",
    "\n",
    "for img_dir in img_dirs:\n",
    "    results = []\n",
    "    prompts = [prompt_0]\n",
    "    image_extensions = [\".jpg\", \".jpeg\", \".png\", \".bmp\", \".tiff\", \".webp\"]\n",
    "    image_paths = sorted([p for p in img_dir.iterdir() if p.suffix.lower() in image_extensions])\n",
    "    for image_path in tqdm(image_paths):\n",
    "        image = Image.open(image_path).convert(\"RGB\")\n",
    "\n",
    "        for prompt in prompts:\n",
    "            inputs= processor_qwen(\n",
    "                    text=[prompt],\n",
    "                    images=image,\n",
    "                    return_tensors=\"pt\",\n",
    "                    padding=True\n",
    "                ).to(device)\n",
    "            generated_ids = model_qwen.generate(**inputs, max_new_tokens=512)\n",
    "            trimmed_ids = [out[len(inp):] for inp, out in zip(inputs.input_ids, generated_ids)]\n",
    "            output_text = processor_qwen.batch_decode(trimmed_ids, skip_special_tokens=True, clean_up_tokenization_spaces=False)[0]\n",
    "            results.append({\n",
    "                    \"image\": image_path.name,\n",
    "                    f\"description_of_prompt\": output_text,\n",
    "                    \"prompt_token_count\": len(inputs.input_ids[0]),\n",
    "                    \"generated_token_count\": len(generated_ids[0]),\n",
    "                    \"answer_token_count\": len(trimmed_ids[0])\n",
    "            })\n",
    "    output_path = img_dir / \"generated_abstract.json\"\n",
    "    with open(output_path, \"w\", encoding=\"utf-8\") as f:\n",
    "        json.dump(results, f, ensure_ascii=False, indent=2)"
   ]
  }
 ],
 "metadata": {
  "kernelspec": {
   "display_name": "qwen",
   "language": "python",
   "name": "python3"
  },
  "language_info": {
   "codemirror_mode": {
    "name": "ipython",
    "version": 3
   },
   "file_extension": ".py",
   "mimetype": "text/x-python",
   "name": "python",
   "nbconvert_exporter": "python",
   "pygments_lexer": "ipython3",
   "version": "3.10.18"
  }
 },
 "nbformat": 4,
 "nbformat_minor": 5
}
